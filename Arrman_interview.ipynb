{
  "nbformat": 4,
  "nbformat_minor": 0,
  "metadata": {
    "colab": {
      "provenance": [],
      "authorship_tag": "ABX9TyNzq5Cu77NAs5CcnrgnVROB",
      "include_colab_link": true
    },
    "kernelspec": {
      "name": "python3",
      "display_name": "Python 3"
    },
    "language_info": {
      "name": "python"
    }
  },
  "cells": [
    {
      "cell_type": "markdown",
      "metadata": {
        "id": "view-in-github",
        "colab_type": "text"
      },
      "source": [
        "<a href=\"https://colab.research.google.com/github/Nanibabu9999/Google_colab_repo/blob/main/Arrman_interview.ipynb\" target=\"_parent\"><img src=\"https://colab.research.google.com/assets/colab-badge.svg\" alt=\"Open In Colab\"/></a>"
      ]
    },
    {
      "cell_type": "code",
      "execution_count": 1,
      "metadata": {
        "id": "A7zmDZEqqgoS"
      },
      "outputs": [],
      "source": [
        "a = 'nani'"
      ]
    },
    {
      "cell_type": "code",
      "source": [
        "a"
      ],
      "metadata": {
        "colab": {
          "base_uri": "https://localhost:8080/",
          "height": 35
        },
        "id": "AIEW9jefqwhd",
        "outputId": "19ccf303-9184-4bbb-ee31-3c77ad5acfdf"
      },
      "execution_count": 2,
      "outputs": [
        {
          "output_type": "execute_result",
          "data": {
            "text/plain": [
              "'nani'"
            ],
            "application/vnd.google.colaboratory.intrinsic+json": {
              "type": "string"
            }
          },
          "metadata": {},
          "execution_count": 2
        }
      ]
    },
    {
      "cell_type": "code",
      "source": [
        "def count_letters(s):\n",
        "  char_count = {}\n",
        "  for char in s:\n",
        "    char = char.lower()\n",
        "    if char in char_count:\n",
        "      char_count[char] +=1\n",
        "    else:\n",
        "      char_count[char] =1\n",
        "  return char_count"
      ],
      "metadata": {
        "id": "Hk79THSPqw0z"
      },
      "execution_count": 3,
      "outputs": []
    },
    {
      "cell_type": "code",
      "source": [
        "count_letters(a)"
      ],
      "metadata": {
        "colab": {
          "base_uri": "https://localhost:8080/"
        },
        "id": "aimwx7mArHix",
        "outputId": "8fac5ec0-4dbf-406f-d5e0-5ad4f1b84af4"
      },
      "execution_count": 4,
      "outputs": [
        {
          "output_type": "execute_result",
          "data": {
            "text/plain": [
              "{'n': 2, 'a': 1, 'i': 1}"
            ]
          },
          "metadata": {},
          "execution_count": 4
        }
      ]
    },
    {
      "cell_type": "code",
      "source": [
        "def find_second_occurrences(s,target):\n",
        "  count =0\n",
        "  for i in range(len(s)):\n",
        "    if s[i]==target:\n",
        "      count +=1\n",
        "      if count ==2:\n",
        "        return i\n",
        "  return -1"
      ],
      "metadata": {
        "id": "hHA46M_-rIvt"
      },
      "execution_count": 5,
      "outputs": []
    },
    {
      "cell_type": "code",
      "source": [
        "target = 'n'"
      ],
      "metadata": {
        "id": "W6RRkNG5sHWG"
      },
      "execution_count": 6,
      "outputs": []
    },
    {
      "cell_type": "code",
      "source": [
        "find_second_occurrences(a,target)"
      ],
      "metadata": {
        "colab": {
          "base_uri": "https://localhost:8080/"
        },
        "id": "RZflNwSRsDAY",
        "outputId": "4857ee8d-724b-4fc3-cda7-f5d28586ce3d"
      },
      "execution_count": 7,
      "outputs": [
        {
          "output_type": "execute_result",
          "data": {
            "text/plain": [
              "2"
            ]
          },
          "metadata": {},
          "execution_count": 7
        }
      ]
    },
    {
      "cell_type": "code",
      "source": [],
      "metadata": {
        "id": "_3ZMAF3hsEHi"
      },
      "execution_count": 7,
      "outputs": []
    }
  ]
}